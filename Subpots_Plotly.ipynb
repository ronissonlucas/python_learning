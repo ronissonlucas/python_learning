{
 "cells": [
  {
   "cell_type": "markdown",
   "metadata": {},
   "source": [
    "# Subplots com Plotly"
   ]
  },
  {
   "cell_type": "markdown",
   "metadata": {},
   "source": [
    "<img src = 'fig1.png'/>"
   ]
  },
  {
   "cell_type": "code",
   "execution_count": 1,
   "metadata": {},
   "outputs": [],
   "source": [
    "from plotly.subplots import make_subplots  #importa a função para fazer subplots\n",
    "import plotly.graph_objects as go\n",
    "import plotly.express as px"
   ]
  },
  {
   "cell_type": "code",
   "execution_count": 2,
   "metadata": {},
   "outputs": [],
   "source": [
    "#importa o dataset stocks - com closing prices para algumas empresas\n",
    "data = px.data.stocks()"
   ]
  },
  {
   "cell_type": "code",
   "execution_count": 3,
   "metadata": {},
   "outputs": [
    {
     "data": {
      "text/html": [
       "<div>\n",
       "<style scoped>\n",
       "    .dataframe tbody tr th:only-of-type {\n",
       "        vertical-align: middle;\n",
       "    }\n",
       "\n",
       "    .dataframe tbody tr th {\n",
       "        vertical-align: top;\n",
       "    }\n",
       "\n",
       "    .dataframe thead th {\n",
       "        text-align: right;\n",
       "    }\n",
       "</style>\n",
       "<table border=\"1\" class=\"dataframe\">\n",
       "  <thead>\n",
       "    <tr style=\"text-align: right;\">\n",
       "      <th></th>\n",
       "      <th>date</th>\n",
       "      <th>GOOG</th>\n",
       "      <th>AAPL</th>\n",
       "      <th>AMZN</th>\n",
       "      <th>FB</th>\n",
       "      <th>NFLX</th>\n",
       "      <th>MSFT</th>\n",
       "    </tr>\n",
       "  </thead>\n",
       "  <tbody>\n",
       "    <tr>\n",
       "      <th>0</th>\n",
       "      <td>2018-01-01</td>\n",
       "      <td>1.000000</td>\n",
       "      <td>1.000000</td>\n",
       "      <td>1.000000</td>\n",
       "      <td>1.000000</td>\n",
       "      <td>1.000000</td>\n",
       "      <td>1.000000</td>\n",
       "    </tr>\n",
       "    <tr>\n",
       "      <th>1</th>\n",
       "      <td>2018-01-08</td>\n",
       "      <td>1.018172</td>\n",
       "      <td>1.011943</td>\n",
       "      <td>1.061881</td>\n",
       "      <td>0.959968</td>\n",
       "      <td>1.053526</td>\n",
       "      <td>1.015988</td>\n",
       "    </tr>\n",
       "    <tr>\n",
       "      <th>2</th>\n",
       "      <td>2018-01-15</td>\n",
       "      <td>1.032008</td>\n",
       "      <td>1.019771</td>\n",
       "      <td>1.053240</td>\n",
       "      <td>0.970243</td>\n",
       "      <td>1.049860</td>\n",
       "      <td>1.020524</td>\n",
       "    </tr>\n",
       "    <tr>\n",
       "      <th>3</th>\n",
       "      <td>2018-01-22</td>\n",
       "      <td>1.066783</td>\n",
       "      <td>0.980057</td>\n",
       "      <td>1.140676</td>\n",
       "      <td>1.016858</td>\n",
       "      <td>1.307681</td>\n",
       "      <td>1.066561</td>\n",
       "    </tr>\n",
       "    <tr>\n",
       "      <th>4</th>\n",
       "      <td>2018-01-29</td>\n",
       "      <td>1.008773</td>\n",
       "      <td>0.917143</td>\n",
       "      <td>1.163374</td>\n",
       "      <td>1.018357</td>\n",
       "      <td>1.273537</td>\n",
       "      <td>1.040708</td>\n",
       "    </tr>\n",
       "  </tbody>\n",
       "</table>\n",
       "</div>"
      ],
      "text/plain": [
       "         date      GOOG      AAPL      AMZN        FB      NFLX      MSFT\n",
       "0  2018-01-01  1.000000  1.000000  1.000000  1.000000  1.000000  1.000000\n",
       "1  2018-01-08  1.018172  1.011943  1.061881  0.959968  1.053526  1.015988\n",
       "2  2018-01-15  1.032008  1.019771  1.053240  0.970243  1.049860  1.020524\n",
       "3  2018-01-22  1.066783  0.980057  1.140676  1.016858  1.307681  1.066561\n",
       "4  2018-01-29  1.008773  0.917143  1.163374  1.018357  1.273537  1.040708"
      ]
     },
     "execution_count": 3,
     "metadata": {},
     "output_type": "execute_result"
    }
   ],
   "source": [
    "#mostra a 5 primeiras linhas\n",
    "data.head()"
   ]
  },
  {
   "cell_type": "code",
   "execution_count": null,
   "metadata": {},
   "outputs": [],
   "source": [
    "#cria a configuração dos subplots com 2 linhas e 1 coluna\n",
    "#o argumento subplot_titles adiciona um título específico para cada subplot\n",
    "#vertical_spacing modifica o espaçamento vertical\n",
    "fig = make_subplots(rows = 2, cols = 1, subplot_titles = ['GOOG', 'FB'],\n",
    "                   vertical_spacing = 0.3)\n",
    "\n",
    "#adiciona o primeiro trace, que corresponde as ações GOOG\n",
    "#ao final precisamos especificar a linha, coluna correspondente\n",
    "fig.add_trace(go.Scatter(\n",
    "    x = data['date'],\n",
    "    y = data['GOOG'],\n",
    "    mode = 'lines',\n",
    "    name = 'GOOG',\n",
    "    line = dict(color = 'red')\n",
    "), row = 1, col = 1)\n",
    "\n",
    "#adiciona o segundo trace\n",
    "fig.add_trace(go.Scatter(\n",
    "    x = data['date'],\n",
    "    y = data['FB'],\n",
    "    mode = 'lines',\n",
    "    name = 'FB',\n",
    "    line = dict(color = 'darkred')\n",
    "), row = 2, col = 1)\n",
    "\n",
    "\n",
    "#atualiza o título do eixo x para o primeiro subplot\n",
    "#o argumento showgrid permite alterar as gridlines do eixo correspondente\n",
    "fig.update_xaxes(title = 'Time', row = 1, col = 1, showgrid = False)\n",
    "\n",
    "#atualiza o título do eixo x para o segundo subplot\n",
    "fig.update_xaxes(title = 'Time', row = 2, col = 1, showgrid = False)\n",
    "\n",
    "\n",
    "#atualiza o título do eixo y para os subplots correspondentes\n",
    "#neste caso o showgrid=False irá remover as gridlines do eixo y\n",
    "fig.update_yaxes(title = 'Close Price', row = 1, col = 1, showgrid = False)\n",
    "fig.update_yaxes(title = 'Close Price', row = 2, col = 1, showgrid = False)\n",
    "\n",
    "#muda o título do layout e altera a cor do background para white\n",
    "fig.update_layout(title = 'Stocks', plot_bgcolor = 'white')\n",
    "\n",
    "#insere o tick monetário\n",
    "fig.update_yaxes(tickprefix=\"$\")\n",
    "\n",
    "#altera a configuração das linhas vertical e horizontal dos subplots\n",
    "fig.update_xaxes(showline=True, linewidth = 1, linecolor='lightgrey')\n",
    "fig.update_yaxes(showline=True, linewidth = 1, linecolor='lightgrey')\n",
    "\n",
    "fig.show()"
   ]
  },
  {
   "cell_type": "markdown",
   "metadata": {},
   "source": [
    "<img src = 'fig1.png'/>"
   ]
  }
 ],
 "metadata": {
  "kernelspec": {
   "display_name": "Python 3",
   "language": "python",
   "name": "python3"
  },
  "language_info": {
   "codemirror_mode": {
    "name": "ipython",
    "version": 3
   },
   "file_extension": ".py",
   "mimetype": "text/x-python",
   "name": "python",
   "nbconvert_exporter": "python",
   "pygments_lexer": "ipython3",
   "version": "3.8.5"
  },
  "varInspector": {
   "cols": {
    "lenName": 16,
    "lenType": 16,
    "lenVar": 40
   },
   "kernels_config": {
    "python": {
     "delete_cmd_postfix": "",
     "delete_cmd_prefix": "del ",
     "library": "var_list.py",
     "varRefreshCmd": "print(var_dic_list())"
    },
    "r": {
     "delete_cmd_postfix": ") ",
     "delete_cmd_prefix": "rm(",
     "library": "var_list.r",
     "varRefreshCmd": "cat(var_dic_list()) "
    }
   },
   "types_to_exclude": [
    "module",
    "function",
    "builtin_function_or_method",
    "instance",
    "_Feature"
   ],
   "window_display": false
  }
 },
 "nbformat": 4,
 "nbformat_minor": 4
}
